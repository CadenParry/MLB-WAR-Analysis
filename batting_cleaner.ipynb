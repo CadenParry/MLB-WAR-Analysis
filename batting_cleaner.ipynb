{
 "cells": [
  {
   "cell_type": "markdown",
   "metadata": {},
   "source": [
    "# Load Batting.csv"
   ]
  },
  {
   "cell_type": "code",
   "execution_count": 12,
   "metadata": {},
   "outputs": [
    {
     "data": {
      "text/html": [
       "<div>\n",
       "<style scoped>\n",
       "    .dataframe tbody tr th:only-of-type {\n",
       "        vertical-align: middle;\n",
       "    }\n",
       "\n",
       "    .dataframe tbody tr th {\n",
       "        vertical-align: top;\n",
       "    }\n",
       "\n",
       "    .dataframe thead th {\n",
       "        text-align: right;\n",
       "    }\n",
       "</style>\n",
       "<table border=\"1\" class=\"dataframe\">\n",
       "  <thead>\n",
       "    <tr style=\"text-align: right;\">\n",
       "      <th></th>\n",
       "      <th>player</th>\n",
       "      <th>player_id</th>\n",
       "      <th>amount</th>\n",
       "      <th>length</th>\n",
       "      <th>year</th>\n",
       "      <th>team</th>\n",
       "      <th>pos</th>\n",
       "    </tr>\n",
       "  </thead>\n",
       "  <tbody>\n",
       "    <tr>\n",
       "      <th>0</th>\n",
       "      <td>Shohei Ohtani</td>\n",
       "      <td>ohtansh01</td>\n",
       "      <td>$700,000,000.00</td>\n",
       "      <td>10.0</td>\n",
       "      <td>2023.0</td>\n",
       "      <td>LAD</td>\n",
       "      <td>h</td>\n",
       "    </tr>\n",
       "    <tr>\n",
       "      <th>1</th>\n",
       "      <td>Mike Trout</td>\n",
       "      <td>troutmi01</td>\n",
       "      <td>$426,500,000</td>\n",
       "      <td>12.0</td>\n",
       "      <td>2019.0</td>\n",
       "      <td>LAA</td>\n",
       "      <td>h</td>\n",
       "    </tr>\n",
       "    <tr>\n",
       "      <th>2</th>\n",
       "      <td>Mookie Betts</td>\n",
       "      <td>bettsmo01</td>\n",
       "      <td>$365,000,000.00</td>\n",
       "      <td>12.0</td>\n",
       "      <td>2020.0</td>\n",
       "      <td>LAD</td>\n",
       "      <td>h</td>\n",
       "    </tr>\n",
       "    <tr>\n",
       "      <th>3</th>\n",
       "      <td>Aaron Judge</td>\n",
       "      <td>judgeaa01</td>\n",
       "      <td>$360,000,000.00</td>\n",
       "      <td>9.0</td>\n",
       "      <td>2022.0</td>\n",
       "      <td>NYY</td>\n",
       "      <td>h</td>\n",
       "    </tr>\n",
       "    <tr>\n",
       "      <th>4</th>\n",
       "      <td>Manny Machado</td>\n",
       "      <td>machama01</td>\n",
       "      <td>$350,000,000.00</td>\n",
       "      <td>11.0</td>\n",
       "      <td>2023.0</td>\n",
       "      <td>SD</td>\n",
       "      <td>h</td>\n",
       "    </tr>\n",
       "  </tbody>\n",
       "</table>\n",
       "</div>"
      ],
      "text/plain": [
       "          player  player_id            amount  length    year team pos\n",
       "0  Shohei Ohtani  ohtansh01  $700,000,000.00     10.0  2023.0  LAD   h\n",
       "1     Mike Trout  troutmi01     $426,500,000     12.0  2019.0  LAA   h\n",
       "2   Mookie Betts  bettsmo01  $365,000,000.00     12.0  2020.0  LAD   h\n",
       "3    Aaron Judge  judgeaa01  $360,000,000.00      9.0  2022.0  NYY   h\n",
       "4  Manny Machado  machama01  $350,000,000.00     11.0  2023.0   SD   h"
      ]
     },
     "execution_count": 12,
     "metadata": {},
     "output_type": "execute_result"
    }
   ],
   "source": [
    "import pandas as pd\n",
    "\n",
    "batter_contracts = pd.read_csv('data/hitter_contracts.csv', sep=',')\n",
    "batter_data = pd.read_csv('data/Batting(2023-1980).csv', sep=',')\n",
    "\n",
    "batter_contracts.head()"
   ]
  },
  {
   "cell_type": "code",
   "execution_count": 13,
   "metadata": {},
   "outputs": [
    {
     "data": {
      "text/plain": [
       "((50135, 31), (9238, 7), (9238, 7))"
      ]
     },
     "execution_count": 13,
     "metadata": {},
     "output_type": "execute_result"
    }
   ],
   "source": [
    "#batter_contracts = batter_contracts.dropna()\n",
    "\n",
    "merged = pd.merge(batter_data, batter_contracts, left_on='player_id', right_on='player_id')\n",
    "\n",
    "merged.shape, batter_contracts.shape, batter_contracts.shape"
   ]
  },
  {
   "cell_type": "code",
   "execution_count": 14,
   "metadata": {},
   "outputs": [],
   "source": [
    "merged[['player_id', 'yearID', 'year']]\n",
    "\n",
    "merged['out_of_contract'] = (merged['yearID'] < merged['year']) | (merged['yearID'] >= (merged['year'] + merged['length'] ))"
   ]
  },
  {
   "cell_type": "code",
   "execution_count": 15,
   "metadata": {},
   "outputs": [],
   "source": [
    "data_to_add = merged[['player', 'player_id', 'yearID', 'pos', 'WAR', 'length', 'out_of_contract']]\n",
    "\n",
    "data_to_add.to_csv('data/player_visualization.csv')\n",
    "\n"
   ]
  }
 ],
 "metadata": {
  "kernelspec": {
   "display_name": "base",
   "language": "python",
   "name": "python3"
  },
  "language_info": {
   "codemirror_mode": {
    "name": "ipython",
    "version": 3
   },
   "file_extension": ".py",
   "mimetype": "text/x-python",
   "name": "python",
   "nbconvert_exporter": "python",
   "pygments_lexer": "ipython3",
   "version": "3.11.5"
  }
 },
 "nbformat": 4,
 "nbformat_minor": 2
}
