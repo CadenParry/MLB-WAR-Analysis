{
 "cells": [
  {
   "cell_type": "markdown",
   "metadata": {},
   "source": [
    "# Read in Data"
   ]
  },
  {
   "cell_type": "code",
   "execution_count": 28,
   "metadata": {},
   "outputs": [],
   "source": [
    "import pandas as pd\n",
    "\n",
    "data = pd.read_csv('data/player_visualization.csv', sep=',')\n",
    "data = data.dropna()\n",
    "\n",
    "data['amount'] = data['amount'].str.replace('$', '')\n",
    "data['amount'] = data['amount'].str.replace(',', '')\n",
    "data['amount'] = data['amount'].astype(float)\n",
    "\n",
    "data = data[data['amount'] >= 200_000_000]\n"
   ]
  },
  {
   "cell_type": "markdown",
   "metadata": {},
   "source": [
    "# Run T Test"
   ]
  },
  {
   "cell_type": "code",
   "execution_count": 29,
   "metadata": {},
   "outputs": [],
   "source": [
    "from scipy import stats\n",
    "\n",
    "# Group the data by 'player_id'\n",
    "grouped = data.groupby('player_id')\n",
    "\n",
    "\n"
   ]
  },
  {
   "cell_type": "markdown",
   "metadata": {},
   "source": [
    "# Test players individually"
   ]
  },
  {
   "cell_type": "code",
   "execution_count": 30,
   "metadata": {},
   "outputs": [
    {
     "name": "stdout",
     "output_type": "stream",
     "text": [
      "Not significant\n",
      "{'arenano01': (0.4724356320171307, 0.647861680467972), 'bettsmo01': (0.8032510025935823, 0.44503740899308686), 'bogaexa01': (-1.2112967787025426, 0.2566261162451377), 'cabremi01': (1.8149250692611205, 0.08535551119844176), 'canoro01': (0.9158802861015887, 0.3742196833151038), 'colege01': (1.7158819513824775, 0.14683945485052935), 'crawfjp01': (-0.9589492830857883, 0.3816252839259403), 'fieldpr01': (0.6770174206033182, 0.5137508502928839), 'harpebr03': (0.1730551645498404, 0.8660607016770092), 'judgeaa01': (-1.107456806633683, 0.3105073018239101), 'kershcl01': (-0.8739994008933645, 0.4007974357735862), 'lindofr01': (-0.13781567642411446, 0.8942666287325718), 'machama01': (0.8168397256880542, 0.4330488105739846), 'ohtansh01': (-1.6933099474694677, 0.1656487967014712), 'priceda01': (-0.7501297914693459, 0.47045724597517), 'rendoan01': (1.0447938790561775, 0.3233673184157681), 'rileyau01': (-1.4699102323833482, 0.23793193848694472), 'rodrial01': (1.9721241178023237, 0.06258403634028971), 'scherma01': (-0.886142297180472, 0.39450090880880473), 'seageco01': (-1.345816595141442, 0.22031738376896903), 'stantmi03': (0.5886039538140287, 0.5670413338953131), 'strasst01': (-0.17420938329649716, 0.8655566085286801), 'tatisfe02': (-2.864445377138825, 0.10332918685804816), 'turnetr01': (-0.5440784512082536, 0.6032775367548141), 'vottojo01': (-0.8404589169827005, 0.4138479606117299)}\n",
      "Significant\n",
      "{'troutmi01': (2.208424554486683, 0.04935428419365854)}\n",
      "Very significant\n",
      "{}\n",
      "Highly significant\n",
      "{'pujolal01': (6.653550320874747, 1.7727440271833686e-06)}\n"
     ]
    }
   ],
   "source": [
    "# Initialize a dictionary to store the t-test results for each player\n",
    "t_test_results = {}\n",
    "\n",
    "# Perform the t-test for each player\n",
    "for player_id, group in grouped:\n",
    "    group1 = group[group['out_of_contract'] == True]['WAR']\n",
    "    group2 = group[group['out_of_contract'] == False]['WAR']\n",
    "\n",
    "\n",
    "    t_statistic, p_value = stats.ttest_ind(group1, group2, nan_policy='omit')\n",
    "    t_test_results[player_id] = (t_statistic, p_value)\n",
    "\n",
    "# Print the t-test results\n",
    "not_significant = {}\n",
    "significant = {}\n",
    "very_significant = {}\n",
    "highly_significant = {}\n",
    "\n",
    "\n",
    "for player_id, (t_statistic, p_value) in t_test_results.items():\n",
    "    if p_value > 0.05:\n",
    "        not_significant[player_id] = (t_statistic, p_value)\n",
    "    \n",
    "    elif p_value <= 0.5 and p_value > 0.01:\n",
    "        significant[player_id] = (t_statistic, p_value)\n",
    "    \n",
    "    elif p_value <= 0.01 and p_value > 0.001:\n",
    "        very_significant[player_id] = (t_statistic, p_value)\n",
    "    \n",
    "    elif p_value <= 0.001:\n",
    "        highly_significant[player_id] = (t_statistic, p_value)\n",
    "    \n",
    "    else:\n",
    "        pass\n",
    "\n",
    "print('Not significant')\n",
    "print(not_significant)\n",
    "print('Significant')\n",
    "print(significant)\n",
    "print('Very significant')\n",
    "print(very_significant)\n",
    "print('Highly significant')\n",
    "print(highly_significant)"
   ]
  },
  {
   "cell_type": "markdown",
   "metadata": {},
   "source": [
    "# test all players together"
   ]
  },
  {
   "cell_type": "code",
   "execution_count": 31,
   "metadata": {},
   "outputs": [
    {
     "name": "stdout",
     "output_type": "stream",
     "text": [
      "T-statistic: 2.2177021592263095, P-value: 0.027286104430405234\n"
     ]
    }
   ],
   "source": [
    "group1 = data[data['out_of_contract'] == True]['WAR']\n",
    "group2 = data[data['out_of_contract'] == False]['WAR']\n",
    "\n",
    "t_statistic, p_value = stats.ttest_ind(group1, group2, nan_policy='omit')\n",
    "\n",
    "print(f\"T-statistic: {t_statistic}, P-value: {p_value}\")"
   ]
  }
 ],
 "metadata": {
  "kernelspec": {
   "display_name": "base",
   "language": "python",
   "name": "python3"
  },
  "language_info": {
   "codemirror_mode": {
    "name": "ipython",
    "version": 3
   },
   "file_extension": ".py",
   "mimetype": "text/x-python",
   "name": "python",
   "nbconvert_exporter": "python",
   "pygments_lexer": "ipython3",
   "version": "3.11.5"
  }
 },
 "nbformat": 4,
 "nbformat_minor": 2
}
