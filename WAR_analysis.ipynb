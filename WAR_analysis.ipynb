{
 "cells": [
  {
   "cell_type": "markdown",
   "metadata": {},
   "source": [
    "# Read in Data"
   ]
  },
  {
   "cell_type": "code",
   "execution_count": 39,
   "metadata": {},
   "outputs": [
    {
     "data": {
      "text/html": [
       "<div>\n",
       "<style scoped>\n",
       "    .dataframe tbody tr th:only-of-type {\n",
       "        vertical-align: middle;\n",
       "    }\n",
       "\n",
       "    .dataframe tbody tr th {\n",
       "        vertical-align: top;\n",
       "    }\n",
       "\n",
       "    .dataframe thead th {\n",
       "        text-align: right;\n",
       "    }\n",
       "</style>\n",
       "<table border=\"1\" class=\"dataframe\">\n",
       "  <thead>\n",
       "    <tr style=\"text-align: right;\">\n",
       "      <th></th>\n",
       "      <th>Unnamed: 0</th>\n",
       "      <th>player</th>\n",
       "      <th>player_id</th>\n",
       "      <th>yearID</th>\n",
       "      <th>pos</th>\n",
       "      <th>WAR</th>\n",
       "      <th>out_of_contract</th>\n",
       "    </tr>\n",
       "  </thead>\n",
       "  <tbody>\n",
       "    <tr>\n",
       "      <th>0</th>\n",
       "      <td>0</td>\n",
       "      <td>CJ Abrams</td>\n",
       "      <td>abramcj01</td>\n",
       "      <td>2023.0</td>\n",
       "      <td>h</td>\n",
       "      <td>3.4</td>\n",
       "      <td>False</td>\n",
       "    </tr>\n",
       "    <tr>\n",
       "      <th>1</th>\n",
       "      <td>1</td>\n",
       "      <td>CJ Abrams</td>\n",
       "      <td>abramcj01</td>\n",
       "      <td>2022.0</td>\n",
       "      <td>h</td>\n",
       "      <td>0.1</td>\n",
       "      <td>True</td>\n",
       "    </tr>\n",
       "    <tr>\n",
       "      <th>2</th>\n",
       "      <td>2</td>\n",
       "      <td>Jose Abreu</td>\n",
       "      <td>abreujo02</td>\n",
       "      <td>2023.0</td>\n",
       "      <td>h</td>\n",
       "      <td>0.0</td>\n",
       "      <td>True</td>\n",
       "    </tr>\n",
       "    <tr>\n",
       "      <th>3</th>\n",
       "      <td>3</td>\n",
       "      <td>Jose Abreu</td>\n",
       "      <td>abreujo02</td>\n",
       "      <td>2022.0</td>\n",
       "      <td>h</td>\n",
       "      <td>4.3</td>\n",
       "      <td>True</td>\n",
       "    </tr>\n",
       "    <tr>\n",
       "      <th>4</th>\n",
       "      <td>4</td>\n",
       "      <td>Jose Abreu</td>\n",
       "      <td>abreujo02</td>\n",
       "      <td>2021.0</td>\n",
       "      <td>h</td>\n",
       "      <td>2.9</td>\n",
       "      <td>True</td>\n",
       "    </tr>\n",
       "  </tbody>\n",
       "</table>\n",
       "</div>"
      ],
      "text/plain": [
       "   Unnamed: 0      player  player_id  yearID pos  WAR  out_of_contract\n",
       "0           0   CJ Abrams  abramcj01  2023.0   h  3.4            False\n",
       "1           1   CJ Abrams  abramcj01  2022.0   h  0.1             True\n",
       "2           2  Jose Abreu  abreujo02  2023.0   h  0.0             True\n",
       "3           3  Jose Abreu  abreujo02  2022.0   h  4.3             True\n",
       "4           4  Jose Abreu  abreujo02  2021.0   h  2.9             True"
      ]
     },
     "execution_count": 39,
     "metadata": {},
     "output_type": "execute_result"
    }
   ],
   "source": [
    "import pandas as pd\n",
    "\n",
    "data = pd.read_csv('data/player_visualization.csv', sep=',')\n",
    "data = data.dropna()\n",
    "data.head()"
   ]
  },
  {
   "cell_type": "markdown",
   "metadata": {},
   "source": [
    "# Run T Test"
   ]
  },
  {
   "cell_type": "code",
   "execution_count": 43,
   "metadata": {},
   "outputs": [
    {
     "name": "stderr",
     "output_type": "stream",
     "text": [
      "/Users/cadenparry/anaconda3/lib/python3.11/site-packages/scipy/stats/_axis_nan_policy.py:523: RuntimeWarning: Precision loss occurred in moment calculation due to catastrophic cancellation. This occurs when the data are nearly identical. Results may be unreliable.\n",
      "  res = hypotest_fun_out(*samples, **kwds)\n"
     ]
    },
    {
     "name": "stdout",
     "output_type": "stream",
     "text": [
      "Player ID: acostma01, t-statistic: inf, p-value: 0.0\n",
      "Player ID: anderdr02, t-statistic: inf, p-value: 0.0\n",
      "Player ID: andinro01, t-statistic: -7.5092822818395595, p-value: 6.8671525476252e-05\n",
      "Player ID: andrima01, t-statistic: inf, p-value: 0.0\n",
      "Player ID: bauertr01, t-statistic: 5.2915026221291805, p-value: 0.0011337831033596452\n",
      "Player ID: bautijo02, t-statistic: -3.76513006726412, p-value: 0.002358595890423518\n",
      "Player ID: colonba01, t-statistic: 2.920251505000728, p-value: 0.009136597867850814\n",
      "Player ID: cruzne02, t-statistic: -3.9670719060482003, p-value: 0.000995791264099334\n",
      "Player ID: delarru01, t-statistic: 5.855400437691198, p-value: 0.0020585239624297982\n",
      "Player ID: derosma01, t-statistic: -4.269851563504603, p-value: 0.000777635677082984\n",
      "Player ID: dicksbr01, t-statistic: -inf, p-value: 0.0\n",
      "Player ID: drurybr01, t-statistic: -4.023387267936602, p-value: 0.0050378935391336395\n",
      "Player ID: edmonji01, t-statistic: -4.172289123856086, p-value: 0.0008174213879330747\n",
      "Player ID: garlajo01, t-statistic: -3.9410698339481636, p-value: 0.0023077902553507025\n",
      "Player ID: gearrco01, t-statistic: -inf, p-value: 0.0\n",
      "Player ID: gilmase01, t-statistic: inf, p-value: 0.0\n",
      "Player ID: gomezca01, t-statistic: -4.068224615237584, p-value: 0.0018570255893473795\n",
      "Player ID: gomezhe01, t-statistic: inf, p-value: 0.0\n",
      "Player ID: gonzami03, t-statistic: inf, p-value: 0.0\n",
      "Player ID: griffke02, t-statistic: 3.2911023256471044, p-value: 0.003650148965920169\n",
      "Player ID: hernaos01, t-statistic: inf, p-value: 0.0\n",
      "Player ID: hillde01, t-statistic: -10.000000000000004, p-value: 0.009852457023325685\n",
      "Player ID: jennida01, t-statistic: -inf, p-value: 0.0\n",
      "Player ID: kahnlto01, t-statistic: inf, p-value: 0.0\n",
      "Player ID: lintz02, t-statistic: 6.305841447708336, p-value: 0.008058541881151373\n",
      "Player ID: lowede01, t-statistic: -4.5625643517710825, p-value: 0.0003737463504628812\n",
      "Player ID: lucrojo01, t-statistic: -4.322299800147588, p-value: 0.001507664823307129\n",
      "Player ID: martiti02, t-statistic: -4.051694138564072, p-value: 0.00118930356033417\n",
      "Player ID: mathemi01, t-statistic: -3.773137900468397, p-value: 0.0030835561291011897\n",
      "Player ID: mccoymi01, t-statistic: -12.499999999999998, p-value: 0.0063392081035446865\n",
      "Player ID: mendolu01, t-statistic: -inf, p-value: 0.0\n",
      "Player ID: mitchbr01, t-statistic: inf, p-value: 0.0\n",
      "Player ID: molinya01, t-statistic: -3.554959509318393, p-value: 0.002435701321750707\n",
      "Player ID: perazjo01, t-statistic: -4.120703583103495, p-value: 0.009167628267616119\n",
      "Player ID: phillbr01, t-statistic: -3.1928088164765844, p-value: 0.00605229766941075\n",
      "Player ID: pujolal01, t-statistic: 4.154047837873577, p-value: 0.0004907100463354703\n",
      "Player ID: riverre01, t-statistic: -3.846717974033387, p-value: 0.002714841242088885\n",
      "Player ID: rizzoan01, t-statistic: -4.736710950873315, p-value: 0.0006126839588243986\n",
      "Player ID: romeren01, t-statistic: -inf, p-value: 0.0\n",
      "Player ID: rowlary01, t-statistic: inf, p-value: 0.0\n",
      "Player ID: salasfe01, t-statistic: -inf, p-value: 0.0\n",
      "Player ID: sewalpa01, t-statistic: inf, p-value: 0.0\n",
      "Player ID: smoltjo01, t-statistic: -4.577258844202116, p-value: 0.00020579118114373305\n",
      "Player ID: stewabr01, t-statistic: -inf, p-value: 0.0\n",
      "Player ID: swansda01, t-statistic: -4.5612667800924855, p-value: 0.0038457676329735797\n",
      "Player ID: tatumcr01, t-statistic: -inf, p-value: 0.0\n",
      "Player ID: trevijo01, t-statistic: -7.476663528101141, p-value: 0.0017108938567941174\n",
      "Player ID: turneju01, t-statistic: -3.651321616771685, p-value: 0.0029299258253534894\n",
      "Player ID: wallach01, t-statistic: 6.425396041156863, p-value: 0.001355885835316011\n"
     ]
    }
   ],
   "source": [
    "import warnings\n",
    "from scipy import stats\n",
    "\n",
    "# Load the data\n",
    "data = pd.read_csv('data/player_visualization.csv', sep=',')\n",
    "\n",
    "data.dropna()\n",
    "\n",
    "# Group the data by 'player_id'\n",
    "grouped = data.groupby('player_id')\n",
    "\n",
    "# Initialize a dictionary to store the t-test results for each player\n",
    "t_test_results = {}\n",
    "\n",
    "# Perform the t-test for each player\n",
    "for player_id, group in grouped:\n",
    "    group1 = group[group['out_of_contract'] == True]['WAR']\n",
    "    group2 = group[group['out_of_contract'] == False]['WAR']\n",
    "    t_statistic, p_value = stats.ttest_ind(group1, group2, nan_policy='omit')\n",
    "    t_test_results[player_id] = (t_statistic, p_value)\n",
    "\n",
    "# Print the t-test results\n",
    "for player_id, (t_statistic, p_value) in t_test_results.items():\n",
    "\n",
    "    if p_value < 0.01:\n",
    "        print(f\"Player ID: {player_id}, t-statistic: {t_statistic}, p-value: {p_value}\")"
   ]
  }
 ],
 "metadata": {
  "kernelspec": {
   "display_name": "base",
   "language": "python",
   "name": "python3"
  },
  "language_info": {
   "codemirror_mode": {
    "name": "ipython",
    "version": 3
   },
   "file_extension": ".py",
   "mimetype": "text/x-python",
   "name": "python",
   "nbconvert_exporter": "python",
   "pygments_lexer": "ipython3",
   "version": "3.11.5"
  }
 },
 "nbformat": 4,
 "nbformat_minor": 2
}
