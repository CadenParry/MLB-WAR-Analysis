{
 "cells": [
  {
   "cell_type": "code",
   "execution_count": 31,
   "metadata": {},
   "outputs": [
    {
     "name": "stdout",
     "output_type": "stream",
     "text": [
      "All player IDs in 'player_contracts_names' are found in 'player_vis_names'.\n"
     ]
    }
   ],
   "source": [
    "import pandas as pd\n",
    "\n",
    "player_vis_names = pd.read_csv('website/player_visualization.csv', sep=',')\n",
    "\n",
    "player_contracts_names = pd.read_csv('data/largest_mlb_contracts.csv', sep=',')\n",
    "\n",
    "# Assuming 'player_id' is the column name for player IDs\n",
    "contract_ids = set(player_contracts_names['Name-additional'])\n",
    "vis_ids = set(player_vis_names['player_id'])\n",
    "\n",
    "missing_ids = contract_ids - vis_ids\n",
    "\n",
    "if missing_ids:\n",
    "    print(f\"These player IDs are in 'player_contracts_names' but not in 'player_vis_names': {missing_ids}\")\n",
    "else:\n",
    "    print(\"All player IDs in 'player_contracts_names' are found in 'player_vis_names'.\")\n",
    "\n"
   ]
  }
 ],
 "metadata": {
  "kernelspec": {
   "display_name": "base",
   "language": "python",
   "name": "python3"
  },
  "language_info": {
   "codemirror_mode": {
    "name": "ipython",
    "version": 3
   },
   "file_extension": ".py",
   "mimetype": "text/x-python",
   "name": "python",
   "nbconvert_exporter": "python",
   "pygments_lexer": "ipython3",
   "version": "3.11.5"
  }
 },
 "nbformat": 4,
 "nbformat_minor": 2
}
